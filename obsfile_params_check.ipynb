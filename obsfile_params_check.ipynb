{
 "metadata": {
  "language_info": {
   "codemirror_mode": {
    "name": "ipython",
    "version": 3
   },
   "file_extension": ".py",
   "mimetype": "text/x-python",
   "name": "python",
   "nbconvert_exporter": "python",
   "pygments_lexer": "ipython3",
   "version": "3.7.2-final"
  },
  "orig_nbformat": 2,
  "kernelspec": {
   "name": "python3",
   "display_name": "Python 3",
   "language": "python"
  }
 },
 "nbformat": 4,
 "nbformat_minor": 2,
 "cells": [
  {
   "cell_type": "code",
   "execution_count": 1,
   "metadata": {},
   "outputs": [],
   "source": [
    "import os\n",
    "import sys\n",
    "sys.path.append(os.getcwd())\n",
    "from obsfile_params_check import obsfile_params_check"
   ]
  },
  {
   "cell_type": "code",
   "execution_count": 11,
   "metadata": {},
   "outputs": [
    {
     "output_type": "error",
     "ename": "SyntaxError",
     "evalue": "invalid syntax (<ipython-input-11-dd27392043d4>, line 3)",
     "traceback": [
      "\u001b[0;36m  File \u001b[0;32m\"<ipython-input-11-dd27392043d4>\"\u001b[0;36m, line \u001b[0;32m3\u001b[0m\n\u001b[0;31m    token =\u001b[0m\n\u001b[0m            ^\u001b[0m\n\u001b[0;31mSyntaxError\u001b[0m\u001b[0;31m:\u001b[0m invalid syntax\n"
     ]
    }
   ],
   "source": [
    "# set your token:\n",
    "# github > settings > developer settings > Personal access token > generate new token\n",
    "token = "
   ]
  },
  {
   "cell_type": "code",
   "execution_count": 3,
   "metadata": {},
   "outputs": [],
   "source": [
    "check = obsfile_params_check(token)"
   ]
  },
  {
   "source": [
    "## Methods:\n",
    "- check.list_repos(username)\n",
    "- check.list_files(path)\n",
    "- check.read_file(path)\n",
    "- check.get_obsparams(path to obsfile)\n",
    "- check.params_extract(\\[trigger\\], path)\n",
    "- check.diff(\\[params declared\\], \\[params_used\\])"
   ],
   "cell_type": "markdown",
   "metadata": {}
  },
  {
   "source": [
    "## 44 files in nanten2/necst-obsfiles repository"
   ],
   "cell_type": "markdown",
   "metadata": {}
  },
  {
   "cell_type": "code",
   "execution_count": 4,
   "metadata": {},
   "outputs": [
    {
     "output_type": "stream",
     "name": "stdout",
     "text": [
      "44 files \n ['2otf_test.obs', 'cross_scan.obs', 'horizon.obs', 'jupiter_cross_x.obs', 'jupiter_cross_x2.obs', 'jupiter_cross_x3.obs', 'jupiter_cross_y.obs', 'jupiter_cross_y2.obs', 'jupiter_cross_y3.obs', 'jupiter_map.obs', 'line_cross_IRC10216.obs', 'line_cross_OriKL_test.obs', 'line_cross_m17sw.obs', 'line_cross_planet.obs', 'line_cross_rcw38.obs', 'line_otf_OriKL.obs', 'line_otf_OriKL_fastmap.obs', 'line_otf_OriKL_fastmap2.obs', 'line_otf_OriKL_map.obs', 'line_otf_horizontal_IRC10216.obs', 'line_otf_m17sw.obs', 'line_otf_oCeti.obs', 'line_otf_planet.obs', 'line_otf_rcw38.obs', 'n_otf_test.obs', 'otf_test.obs', 'otf_test_y.obs', 'planet_otf_x.obs', 'planet_otf_x3.obs', 'planet_otf_y.obs', 'ps_OriKL.obs', 'ps_edge.obs', 'ps_edge_high.obs', 'ps_focus_object.obs', 'ps_focus_planet.obs', 'ps_m17sw.obs', 'ps_planet.obs', 'ps_rcw38.obs', 'ps_test.obs', 'ps_test_OriKL.obs', 'shio.obs', 'sun_otf_x.obs', 'sun_otf_x2.obs', 'sun_otf_y.obs']\n"
     ]
    }
   ],
   "source": [
    "file_list = check.list_files(\"nanten2/necst-obsfiles\")\n",
    "print(len(file_list), \"files \\n\", file_list)"
   ]
  },
  {
   "source": [
    "## Check if all obsfiles DECLARE the same set of parameters\n",
    "There were 5 patterns of params set"
   ],
   "cell_type": "markdown",
   "metadata": {}
  },
  {
   "cell_type": "code",
   "execution_count": 5,
   "metadata": {},
   "outputs": [
    {
     "output_type": "stream",
     "name": "stdout",
     "text": [
      "##pattern_1 \n ['2otf_test.obs', 'horizon.obs', 'jupiter_cross_x.obs', 'jupiter_cross_x2.obs', 'jupiter_cross_x3.obs', 'jupiter_cross_y.obs', 'jupiter_cross_y2.obs', 'jupiter_cross_y3.obs', 'jupiter_map.obs', 'line_otf_OriKL.obs', 'line_otf_OriKL_fastmap.obs', 'line_otf_OriKL_fastmap2.obs', 'line_otf_OriKL_map.obs', 'line_otf_horizontal_IRC10216.obs', 'line_otf_m17sw.obs', 'line_otf_oCeti.obs', 'line_otf_planet.obs', 'line_otf_rcw38.obs', 'n_otf_test.obs', 'otf_test.obs', 'otf_test_y.obs', 'planet_otf_x.obs', 'planet_otf_x3.obs', 'planet_otf_y.obs', 'shio.obs', 'sun_otf_x.obs', 'sun_otf_x2.obs', 'sun_otf_y.obs'] \n\n##pattern_2 \n ['cross_scan.obs'] \n\n##pattern_3 \n ['line_cross_IRC10216.obs', 'line_cross_OriKL_test.obs', 'line_cross_m17sw.obs', 'line_cross_planet.obs', 'line_cross_rcw38.obs'] \n\n##pattern_4 \n ['ps_OriKL.obs', 'ps_focus_object.obs', 'ps_focus_planet.obs', 'ps_m17sw.obs', 'ps_planet.obs', 'ps_rcw38.obs', 'ps_test.obs', 'ps_test_OriKL.obs'] \n\n##pattern_5 \n ['ps_edge.obs', 'ps_edge_high.obs']\n\ntotal 44 files\n"
     ]
    }
   ],
   "source": [
    "param_set_1 = sorted(check.get_obsparams(\"nanten2/necst-obsfiles/\"+\"2otf_test.obs\"))\n",
    "param_set_2 = sorted(check.get_obsparams(\"nanten2/necst-obsfiles/\"+\"cross_scan.obs\"))\n",
    "param_set_3 = sorted(check.get_obsparams(\"nanten2/necst-obsfiles/\"+\"line_cross_IRC10216.obs\"))\n",
    "param_set_4 = sorted(check.get_obsparams(\"nanten2/necst-obsfiles/\"+\"ps_OriKL.obs\"))\n",
    "param_set_5 = sorted(check.get_obsparams(\"nanten2/necst-obsfiles/\"+\"ps_edge.obs\"))\n",
    "files_1, files_2, files_3, files_4, files_5 = [], [], [], [], []\n",
    "for file in file_list:\n",
    "    params = sorted(check.get_obsparams(\"nanten2/necst-obsfiles/\"+file))\n",
    "    if params == param_set_1:\n",
    "        files_1.append(file)\n",
    "    elif params == param_set_2:\n",
    "        files_2.append(file)\n",
    "    elif params == param_set_3:\n",
    "        files_3.append(file)\n",
    "    elif params == param_set_4:\n",
    "        files_4.append(file)\n",
    "    elif params == param_set_5:\n",
    "        files_5.append(file)\n",
    "print(\"##pattern_1 \\n\", files_1, \"\\n\\n##pattern_2 \\n\", files_2, \"\\n\\n##pattern_3 \\n\", files_3, \"\\n\\n##pattern_4 \\n\", files_4, \"\\n\\n##pattern_5 \\n\", files_5)\n",
    "print(\"\\ntotal\", len(files_1 + files_2 + files_3 + files_4 + files_5), \"files\")"
   ]
  },
  {
   "source": [
    "## List commonly DECLARED parameters"
   ],
   "cell_type": "markdown",
   "metadata": {}
  },
  {
   "cell_type": "code",
   "execution_count": 6,
   "metadata": {},
   "outputs": [
    {
     "output_type": "stream",
     "name": "stdout",
     "text": [
      "##Common params are: ['scan_direction', 'multiple', 'object', 'lambda_on', 'offset_El', 'purpose', 'exposure', 'exposure_off', 'if1st_freq_1', 'lamp_pixels', 'lo3rd_freq_1', 'pllref_if', 'pllsideband', 'restfreq_1', 'otflen', 'lo2nd_sb_2', 'otadel_off', 'pllharmonic', 'pllreffreq', 'offset_Az', 'tsys', 'start_pos_y', 'tuning_vlsr', 'grid', 'lo1st_sb_1', 'nTest', 'lamdel_off', 'lo2nd_sb_1', 'restfreq_2', 'start_ch_1', 'otadel', 'obsmode', 'otfvel', 'vlsr', 'cosydel', 'beta_on', 'lambda_off', 'obsfreq_1', 'end_ch_2', 'molecule_2', 'molecule_1', 'transiti_1', 'N', 'cold_flag', 'if1st_freq_2', 'transiti_2', 'lo1st_sb_2', 'beta_off', 'start_pos_x', 'start_ch_2', 'end_ch_1', 'datanum', 'load_interval', 'observer', 'fpga_integtime', 'coordsys', 'lo3rd_sb_2', 'betdel_off', 'lo3rd_freq_2', 'obsfreq_2', 'acc', 'lo3rd_sb_1', 'if3rd_freq_1', 'if3rd_freq_2'] \n\n##Those not common are: ['exposure_off ', 'coordsys ', 'dx', 'xgrid', 'lamdel', 'right_extra', 'nON', 'edge', 'nSeq', 'ygrid', 'betdel', 'dy']\n"
     ]
    }
   ],
   "source": [
    "all_params = set(param_set_1 + param_set_2 + param_set_3 + param_set_4 + param_set_5)\n",
    "common_params, other_params = [], []\n",
    "for param in all_params:\n",
    "    if param in param_set_1 and param_set_2 and param_set_3 and param_set_4 and param_set_5:\n",
    "        common_params.append(param)\n",
    "    else:\n",
    "        other_params.append(param)\n",
    "print(\"##Common params are:\", common_params, \"\\n\\n##Those not common are:\", other_params)"
   ]
  },
  {
   "source": [
    "## Restricting to PS obsfiles, commonly DECLARED params:"
   ],
   "cell_type": "markdown",
   "metadata": {}
  },
  {
   "cell_type": "code",
   "execution_count": 7,
   "metadata": {},
   "outputs": [
    {
     "output_type": "stream",
     "name": "stdout",
     "text": [
      "##Common params are: ['multiple', 'object', 'lambda_on', 'offset_El', 'purpose', 'exposure', 'exposure_off', 'if1st_freq_1', 'lo3rd_freq_1', 'pllref_if', 'pllsideband', 'restfreq_1', 'lo2nd_sb_2', 'nON', 'otadel_off', 'pllharmonic', 'offset_Az', 'pllreffreq', 'tsys', 'tuning_vlsr', 'lo1st_sb_1', 'lamdel_off', 'lo2nd_sb_1', 'restfreq_2', 'start_ch_1', 'otadel', 'lamdel', 'obsmode', 'vlsr', 'cosydel', 'beta_on', 'lambda_off', 'obsfreq_1', 'end_ch_2', 'molecule_2', 'molecule_1', 'transiti_1', 'cold_flag', 'if1st_freq_2', 'nSeq', 'transiti_2', 'lo1st_sb_2', 'beta_off', 'start_ch_2', 'end_ch_1', 'load_interval', 'observer', 'fpga_integtime', 'coordsys', 'lo3rd_sb_2', 'betdel_off', 'lo3rd_freq_2', 'betdel', 'obsfreq_2', 'acc', 'lo3rd_sb_1', 'if3rd_freq_1', 'if3rd_freq_2'] \n\n##Those not common are: ['exposure_off ', 'xgrid', 'right_extra', 'edge', 'N', 'ygrid']\n"
     ]
    }
   ],
   "source": [
    "ps_params = set(param_set_4 + param_set_5)\n",
    "common_ps_params, other_ps_params = [], []\n",
    "for param in ps_params:\n",
    "    if param in param_set_4 and param_set_5:\n",
    "        common_ps_params.append(param)\n",
    "    else:\n",
    "        other_ps_params.append(param)\n",
    "print(\"##Common params are:\", common_ps_params, \"\\n\\n##Those not common are:\", other_ps_params)"
   ]
  },
  {
   "source": [
    "## List params USED in following files (PositionSwitching)\n",
    "- [ROS_ps.py](https://github.com/nanten2/necst-ros/blob/master/obs_scripts/ROS_ps.py)\n",
    "- [ROS_ps_edge.py](https://github.com/nanten2/necst-ros/blob/master/obs_scripts/ROS_ps_edge.py)\n",
    "- [ROS_ps_planet.py](https://github.com/nanten2/necst-ros/blob/master/obs_scripts/ROS_ps_planet.py)\n",
    "- [ps_xffts.py](https://github.com/nanten2/necst-ros/blob/master/obs_scripts/ps_xffts.py)\n",
    "- [simple_ps.py](https://github.com/nanten2/necst-ros/blob/master/obs_scripts/simple_ps.py)\n",
    "- [simple_ps_sun.py](https://github.com/nanten2/necst-ros/blob/master/obs_scripts/simple_ps_sun.py)"
   ],
   "cell_type": "markdown",
   "metadata": {}
  },
  {
   "cell_type": "code",
   "execution_count": 8,
   "metadata": {},
   "outputs": [
    {
     "output_type": "stream",
     "name": "stdout",
     "text": [
      "{'object', 'offset_El', 'lambda_on', 'exposure', 'exposure_off', 'if1st_freq_1', 'lo3rd_freq_1', 'restfreq_1', 'lo2nd_sb_2', 'nON', 'otadel_off', 'offset_Az', 'grid', 'lo1st_sb_1', 'xgrid', 'lamdel_off', 'lo2nd_sb_1', 'restfreq_2', 'otadel', 'lamdel', 'obsmode', 'vlsr', 'cosydel', 'beta_on', 'lambda_off', 'obsfreq_1', 'edge', 'molecule_2', 'molecule_1', 'transiti_1', 'N', 'if1st_freq_2', 'nSeq', 'transiti_2', 'lo1st_sb_2', 'beta_off', 'load_interval', 'observer', 'coordsys', 'ygrid', 'lo3rd_sb_2', 'betdel_off', 'lo3rd_freq_2', 'betdel', 'obsfreq_2', 'lo3rd_sb_1', 'if3rd_freq_1', 'if3rd_freq_2'}\n[43, 42, 43, 43, 0, 0]\n"
     ]
    }
   ],
   "source": [
    "params_used = {}\n",
    "params_used[\"ROS_ps.py\"] = check.params_extract([\"obs[\", \"]\"], \"nanten2/necst-ros/obs_scripts/ROS_ps.py\")\n",
    "params_used[\"ROS_ps_edge.py\"] = check.params_extract([\"obs[\", \"]\"], \"nanten2/necst-ros/obs_scripts/ROS_ps_edge.py\")\n",
    "params_used[\"ROS_ps_planet.py\"] = check.params_extract([\"obs[\", \"]\"], \"nanten2/necst-ros/obs_scripts/ROS_ps_planet.py\")\n",
    "params_used[\"ps_xffts.py\"] = check.params_extract([\"obs[\", \"]\"], \"nanten2/necst-ros/obs_scripts/ps_xffts.py\")\n",
    "params_used[\"simple_ps.py\"] = check.params_extract([\"obs[\", \"]\"], \"nanten2/necst-ros/obs_scripts/simple_ps.py\")\n",
    "params_used[\"simple_ps_sun.py\"] = check.params_extract([\"obs[\", \"]\"], \"nanten2/necst-ros/obs_scripts/simple_ps_sun.py\")\n",
    "used = []\n",
    "for params in params_used.values():\n",
    "    used += params\n",
    "used = set(used)\n",
    "print(used)\n",
    "print([len(params) for params in params_used.values()])"
   ]
  },
  {
   "source": [
    "## Check if uncommon params are actually used"
   ],
   "cell_type": "markdown",
   "metadata": {}
  },
  {
   "cell_type": "code",
   "execution_count": 9,
   "metadata": {},
   "outputs": [
    {
     "output_type": "execute_result",
     "data": {
      "text/plain": [
       "['nON', 'xgrid', 'lamdel', 'edge', 'nSeq', 'ygrid', 'betdel']"
      ]
     },
     "metadata": {},
     "execution_count": 9
    }
   ],
   "source": [
    "used_but_sometimes_not_declared = []\n",
    "for param in used:\n",
    "    if param not in common_params:\n",
    "        used_but_sometimes_not_declared.append(param)\n",
    "used_but_sometimes_not_declared"
   ]
  },
  {
   "source": [
    "further check is needed to determine whether they are necessary for particular observation or simply outdated"
   ],
   "cell_type": "markdown",
   "metadata": {}
  },
  {
   "source": [
    "## List params NEVER USED"
   ],
   "cell_type": "markdown",
   "metadata": {}
  },
  {
   "cell_type": "code",
   "execution_count": 10,
   "metadata": {},
   "outputs": [
    {
     "output_type": "stream",
     "name": "stdout",
     "text": [
      "Parameters never used in PS observations are :\n"
     ]
    },
    {
     "output_type": "execute_result",
     "data": {
      "text/plain": [
       "['scan_direction',\n",
       " 'exposure_off ',\n",
       " 'multiple',\n",
       " 'coordsys ',\n",
       " 'purpose',\n",
       " 'lamp_pixels',\n",
       " 'pllref_if',\n",
       " 'pllsideband',\n",
       " 'otflen',\n",
       " 'pllharmonic',\n",
       " 'pllreffreq',\n",
       " 'tsys',\n",
       " 'start_pos_y',\n",
       " 'tuning_vlsr',\n",
       " 'nTest',\n",
       " 'start_ch_1',\n",
       " 'dx',\n",
       " 'otfvel',\n",
       " 'right_extra',\n",
       " 'end_ch_2',\n",
       " 'cold_flag',\n",
       " 'start_pos_x',\n",
       " 'start_ch_2',\n",
       " 'end_ch_1',\n",
       " 'datanum',\n",
       " 'fpga_integtime',\n",
       " 'acc',\n",
       " 'dy']"
      ]
     },
     "metadata": {},
     "execution_count": 10
    }
   ],
   "source": [
    "never_used = []\n",
    "for param in all_params:\n",
    "    if param not in used:\n",
    "        never_used.append(param)\n",
    "print(\"Parameters never used in PS observations are :\")\n",
    "never_used"
   ]
  },
  {
   "cell_type": "code",
   "execution_count": null,
   "metadata": {},
   "outputs": [],
   "source": []
  }
 ]
}